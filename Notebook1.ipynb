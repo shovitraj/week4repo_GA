{
 "cells": [
  {
   "cell_type": "code",
   "execution_count": 1,
   "id": "342bc08d-0e21-4243-bdf8-85b24ffa6acd",
   "metadata": {
    "id": "120ee28c-2a5c-47b0-81e6-bfbcfde8c7e2",
    "tags": []
   },
   "outputs": [
    {
     "name": "stdout",
     "output_type": "stream",
     "text": [
      "Hello World! This is notebook1\n"
     ]
    }
   ],
   "source": [
    "print('Hello World! This is notebook1')"
   ]
  },
  {
   "cell_type": "code",
   "execution_count": null,
   "id": "2b1118fb-0207-4eb8-97f6-ae633c30e0c8",
   "metadata": {
    "id": "2b1118fb-0207-4eb8-97f6-ae633c30e0c8"
   },
   "outputs": [],
   "source": []
  }
 ],
 "metadata": {
  "kernelspec": {
   "display_name": "Python 3.9",
   "language": "python",
   "name": "python3"
  },
  "language_info": {
   "codemirror_mode": {
    "name": "ipython",
    "version": 3
   },
   "file_extension": ".py",
   "mimetype": "text/x-python",
   "name": "python",
   "nbconvert_exporter": "python",
   "pygments_lexer": "ipython3",
   "version": "3.9.7"
  }
 },
 "nbformat": 4,
 "nbformat_minor": 5
}
